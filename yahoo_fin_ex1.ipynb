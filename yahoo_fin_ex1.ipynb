{
 "cells": [
  {
   "cell_type": "code",
   "execution_count": 1,
   "metadata": {},
   "outputs": [],
   "source": [
    "import yfinance as yf\n",
    "import html5lib\n",
    "import modin.pandas as pd\n",
    "import pandas as pds\n",
    "import numpy as np\n",
    "import matplotlib.pyplot as plt\n",
    "plt.style.use('fivethirtyeight')\n",
    "import warnings\n",
    "warnings.filterwarnings('ignore')"
   ]
  },
  {
   "cell_type": "code",
   "execution_count": 2,
   "metadata": {},
   "outputs": [
    {
     "name": "stdout",
     "output_type": "stream",
     "text": [
      "yfinance.Ticker object <XLK>\n"
     ]
    }
   ],
   "source": [
    "spdr_xlk = yf.Ticker('xlk')\n",
    "print(spdr_xlk)"
   ]
  },
  {
   "cell_type": "code",
   "execution_count": 3,
   "metadata": {},
   "outputs": [],
   "source": [
    "import ssl\n",
    "ssl._create_default_https_context = ssl._create_unverified_context"
   ]
  },
  {
   "cell_type": "code",
   "execution_count": 4,
   "metadata": {
    "scrolled": false
   },
   "outputs": [
    {
     "data": {
      "text/plain": [
       "{'previousClose': 82.31,\n",
       " 'regularMarketOpen': 79.76,\n",
       " 'twoHundredDayAverage': 87.73167,\n",
       " 'trailingAnnualDividendYield': 0.009962338,\n",
       " 'payoutRatio': None,\n",
       " 'volume24Hr': None,\n",
       " 'regularMarketDayHigh': 81.255,\n",
       " 'navPrice': 78.62,\n",
       " 'averageDailyVolume10Day': 39040957,\n",
       " 'totalAssets': 24922689536,\n",
       " 'regularMarketPreviousClose': 82.31,\n",
       " 'fiftyDayAverage': 88.11853,\n",
       " 'trailingAnnualDividendRate': 0.82,\n",
       " 'open': 79.76,\n",
       " 'toCurrency': None,\n",
       " 'averageVolume10days': 39040957,\n",
       " 'expireDate': None,\n",
       " 'yield': 0.012,\n",
       " 'algorithm': None,\n",
       " 'dividendRate': None,\n",
       " 'exDividendDate': None,\n",
       " 'beta': None,\n",
       " 'circulatingSupply': None,\n",
       " 'startDate': None,\n",
       " 'regularMarketDayLow': 78.25,\n",
       " 'priceHint': 2,\n",
       " 'currency': 'USD',\n",
       " 'regularMarketVolume': 29242721,\n",
       " 'lastMarket': None,\n",
       " 'maxSupply': None,\n",
       " 'openInterest': None,\n",
       " 'marketCap': None,\n",
       " 'volumeAllCurrencies': None,\n",
       " 'strikePrice': None,\n",
       " 'averageVolume': 20526398,\n",
       " 'priceToSalesTrailing12Months': None,\n",
       " 'dayLow': 78.25,\n",
       " 'ask': 78.65,\n",
       " 'ytdReturn': None,\n",
       " 'askSize': 1000,\n",
       " 'volume': 29242721,\n",
       " 'fiftyTwoWeekHigh': 102.94,\n",
       " 'forwardPE': None,\n",
       " 'maxAge': 1,\n",
       " 'fromCurrency': None,\n",
       " 'fiveYearAvgDividendYield': None,\n",
       " 'fiftyTwoWeekLow': 68.1,\n",
       " 'bid': 78.3,\n",
       " 'tradeable': True,\n",
       " 'dividendYield': None,\n",
       " 'bidSize': 800,\n",
       " 'dayHigh': 81.255,\n",
       " 'exchange': 'PCX',\n",
       " 'shortName': 'SPDR Select Sector Fund - Techn',\n",
       " 'longName': 'Technology Select Sector SPDR Fund',\n",
       " 'exchangeTimezoneName': 'America/New_York',\n",
       " 'exchangeTimezoneShortName': 'EDT',\n",
       " 'isEsgPopulated': False,\n",
       " 'gmtOffSetMilliseconds': '-14400000',\n",
       " 'quoteType': 'ETF',\n",
       " 'symbol': 'XLK',\n",
       " 'messageBoardId': 'finmb_8795639',\n",
       " 'market': 'us_market',\n",
       " 'annualHoldingsTurnover': None,\n",
       " 'enterpriseToRevenue': None,\n",
       " 'beta3Year': 1.1,\n",
       " 'profitMargins': None,\n",
       " 'enterpriseToEbitda': None,\n",
       " '52WeekChange': None,\n",
       " 'morningStarRiskRating': None,\n",
       " 'forwardEps': None,\n",
       " 'revenueQuarterlyGrowth': None,\n",
       " 'fundInceptionDate': 913766400,\n",
       " 'annualReportExpenseRatio': None,\n",
       " 'bookValue': None,\n",
       " 'fundFamily': 'SPDR State Street Global Advisors',\n",
       " 'lastFiscalYearEnd': None,\n",
       " 'netIncomeToCommon': None,\n",
       " 'trailingEps': None,\n",
       " 'lastDividendValue': None,\n",
       " 'SandP52WeekChange': None,\n",
       " 'priceToBook': None,\n",
       " 'nextFiscalYearEnd': None,\n",
       " 'mostRecentQuarter': None,\n",
       " 'enterpriseValue': None,\n",
       " 'threeYearAverageReturn': 0.1582,\n",
       " 'lastSplitDate': None,\n",
       " 'lastSplitFactor': None,\n",
       " 'legalType': 'Exchange Traded Fund',\n",
       " 'morningStarOverallRating': None,\n",
       " 'earningsQuarterlyGrowth': None,\n",
       " 'pegRatio': None,\n",
       " 'lastCapGain': None,\n",
       " 'category': 'Technology',\n",
       " 'fiveYearAverageReturn': 0.1552,\n",
       " 'phone': '866-732-8673',\n",
       " 'longBusinessSummary': 'The investment seeks investment results that, before expenses, correspond generally to the price and yield performance of publicly traded equity securities of companies in the Technology Select Sector Index.\\n In seeking to track the performance of the index, the fund employs a replication strategy, which means that the fund typically invests in substantially all of the securities represented in the index in approximately the same proportions as the index. It generally invests substantially all, but at least 95%, of its total assets in the securities comprising the index. The fund is non-diversified.',\n",
       " 'companyOfficers': [],\n",
       " 'regularMarketPrice': 79.76,\n",
       " 'logo_url': ''}"
      ]
     },
     "execution_count": 4,
     "metadata": {},
     "output_type": "execute_result"
    }
   ],
   "source": [
    "spdr_xlk.info"
   ]
  },
  {
   "cell_type": "code",
   "execution_count": 5,
   "metadata": {},
   "outputs": [
    {
     "data": {
      "text/plain": [
       "(5350, 7)"
      ]
     },
     "execution_count": 5,
     "metadata": {},
     "output_type": "execute_result"
    }
   ],
   "source": [
    "xlk_df = spdr_xlk.history(period='max')\n",
    "xlk_df.shape"
   ]
  },
  {
   "cell_type": "code",
   "execution_count": 6,
   "metadata": {},
   "outputs": [
    {
     "data": {
      "text/html": [
       "<div>\n",
       "<style scoped>\n",
       "    .dataframe tbody tr th:only-of-type {\n",
       "        vertical-align: middle;\n",
       "    }\n",
       "\n",
       "    .dataframe tbody tr th {\n",
       "        vertical-align: top;\n",
       "    }\n",
       "\n",
       "    .dataframe thead th {\n",
       "        text-align: right;\n",
       "    }\n",
       "</style>\n",
       "<table border=\"1\" class=\"dataframe\">\n",
       "  <thead>\n",
       "    <tr style=\"text-align: right;\">\n",
       "      <th></th>\n",
       "      <th>Open</th>\n",
       "      <th>High</th>\n",
       "      <th>Low</th>\n",
       "      <th>Close</th>\n",
       "      <th>Volume</th>\n",
       "      <th>Dividends</th>\n",
       "      <th>Stock Splits</th>\n",
       "    </tr>\n",
       "    <tr>\n",
       "      <th>Date</th>\n",
       "      <th></th>\n",
       "      <th></th>\n",
       "      <th></th>\n",
       "      <th></th>\n",
       "      <th></th>\n",
       "      <th></th>\n",
       "      <th></th>\n",
       "    </tr>\n",
       "  </thead>\n",
       "  <tbody>\n",
       "    <tr>\n",
       "      <th>2020-03-23</th>\n",
       "      <td>70.69</td>\n",
       "      <td>72.22</td>\n",
       "      <td>68.10</td>\n",
       "      <td>70.40</td>\n",
       "      <td>42479200</td>\n",
       "      <td>0.371</td>\n",
       "      <td>0</td>\n",
       "    </tr>\n",
       "    <tr>\n",
       "      <th>2020-03-24</th>\n",
       "      <td>74.66</td>\n",
       "      <td>77.67</td>\n",
       "      <td>74.36</td>\n",
       "      <td>77.61</td>\n",
       "      <td>37664500</td>\n",
       "      <td>0.000</td>\n",
       "      <td>0</td>\n",
       "    </tr>\n",
       "    <tr>\n",
       "      <th>2020-03-25</th>\n",
       "      <td>78.20</td>\n",
       "      <td>81.09</td>\n",
       "      <td>76.02</td>\n",
       "      <td>77.51</td>\n",
       "      <td>28740400</td>\n",
       "      <td>0.000</td>\n",
       "      <td>0</td>\n",
       "    </tr>\n",
       "    <tr>\n",
       "      <th>2020-03-26</th>\n",
       "      <td>78.49</td>\n",
       "      <td>82.51</td>\n",
       "      <td>78.30</td>\n",
       "      <td>82.31</td>\n",
       "      <td>28212900</td>\n",
       "      <td>0.000</td>\n",
       "      <td>0</td>\n",
       "    </tr>\n",
       "    <tr>\n",
       "      <th>2020-03-27</th>\n",
       "      <td>79.76</td>\n",
       "      <td>81.26</td>\n",
       "      <td>78.25</td>\n",
       "      <td>78.59</td>\n",
       "      <td>29240600</td>\n",
       "      <td>0.000</td>\n",
       "      <td>0</td>\n",
       "    </tr>\n",
       "  </tbody>\n",
       "</table>\n",
       "</div>"
      ],
      "text/plain": [
       "             Open   High    Low  Close    Volume  Dividends  Stock Splits\n",
       "Date                                                                     \n",
       "2020-03-23  70.69  72.22  68.10  70.40  42479200      0.371             0\n",
       "2020-03-24  74.66  77.67  74.36  77.61  37664500      0.000             0\n",
       "2020-03-25  78.20  81.09  76.02  77.51  28740400      0.000             0\n",
       "2020-03-26  78.49  82.51  78.30  82.31  28212900      0.000             0\n",
       "2020-03-27  79.76  81.26  78.25  78.59  29240600      0.000             0"
      ]
     },
     "execution_count": 6,
     "metadata": {},
     "output_type": "execute_result"
    }
   ],
   "source": [
    "xlk_df.tail(5)"
   ]
  },
  {
   "cell_type": "code",
   "execution_count": 7,
   "metadata": {},
   "outputs": [],
   "source": [
    "xlk_df = pd.DataFrame({'ds':xlk_df.index\n",
    "                       , 'y': xlk_df.Close\n",
    "                      }).reset_index(drop=True)._to_pandas()"
   ]
  },
  {
   "cell_type": "code",
   "execution_count": 8,
   "metadata": {},
   "outputs": [
    {
     "data": {
      "text/html": [
       "<div>\n",
       "<style scoped>\n",
       "    .dataframe tbody tr th:only-of-type {\n",
       "        vertical-align: middle;\n",
       "    }\n",
       "\n",
       "    .dataframe tbody tr th {\n",
       "        vertical-align: top;\n",
       "    }\n",
       "\n",
       "    .dataframe thead th {\n",
       "        text-align: right;\n",
       "    }\n",
       "</style>\n",
       "<table border=\"1\" class=\"dataframe\">\n",
       "  <thead>\n",
       "    <tr style=\"text-align: right;\">\n",
       "      <th></th>\n",
       "      <th>ds</th>\n",
       "      <th>y</th>\n",
       "    </tr>\n",
       "  </thead>\n",
       "  <tbody>\n",
       "    <tr>\n",
       "      <th>0</th>\n",
       "      <td>1998-12-22</td>\n",
       "      <td>25.01</td>\n",
       "    </tr>\n",
       "    <tr>\n",
       "      <th>1</th>\n",
       "      <td>1998-12-23</td>\n",
       "      <td>25.61</td>\n",
       "    </tr>\n",
       "    <tr>\n",
       "      <th>2</th>\n",
       "      <td>1998-12-24</td>\n",
       "      <td>25.51</td>\n",
       "    </tr>\n",
       "    <tr>\n",
       "      <th>3</th>\n",
       "      <td>1998-12-28</td>\n",
       "      <td>25.58</td>\n",
       "    </tr>\n",
       "    <tr>\n",
       "      <th>4</th>\n",
       "      <td>1998-12-29</td>\n",
       "      <td>25.65</td>\n",
       "    </tr>\n",
       "  </tbody>\n",
       "</table>\n",
       "</div>"
      ],
      "text/plain": [
       "          ds      y\n",
       "0 1998-12-22  25.01\n",
       "1 1998-12-23  25.61\n",
       "2 1998-12-24  25.51\n",
       "3 1998-12-28  25.58\n",
       "4 1998-12-29  25.65"
      ]
     },
     "execution_count": 8,
     "metadata": {},
     "output_type": "execute_result"
    }
   ],
   "source": [
    "xlk_df.head()"
   ]
  },
  {
   "cell_type": "code",
   "execution_count": 9,
   "metadata": {},
   "outputs": [],
   "source": [
    "from fbprophet import Prophet"
   ]
  },
  {
   "cell_type": "code",
   "execution_count": 10,
   "metadata": {},
   "outputs": [
    {
     "name": "stderr",
     "output_type": "stream",
     "text": [
      "INFO:fbprophet:Disabling daily seasonality. Run prophet with daily_seasonality=True to override this.\n"
     ]
    },
    {
     "data": {
      "text/plain": [
       "<fbprophet.forecaster.Prophet at 0x7f018206a1d0>"
      ]
     },
     "execution_count": 10,
     "metadata": {},
     "output_type": "execute_result"
    }
   ],
   "source": [
    "xlk_model = Prophet(interval_width = 0.95)\n",
    "xlk_model.fit(xlk_df)"
   ]
  },
  {
   "cell_type": "code",
   "execution_count": 11,
   "metadata": {},
   "outputs": [],
   "source": [
    "xlk_forecast = xlk_model.make_future_dataframe(periods=20\n",
    "                                               , freq='D'\n",
    "                                              )\n",
    "xlk_forecast = xlk_model.predict(xlk_forecast)"
   ]
  },
  {
   "cell_type": "code",
   "execution_count": 12,
   "metadata": {},
   "outputs": [
    {
     "data": {
      "text/plain": [
       "Index(['ds', 'trend', 'yhat_lower', 'yhat_upper', 'trend_lower', 'trend_upper',\n",
       "       'additive_terms', 'additive_terms_lower', 'additive_terms_upper',\n",
       "       'weekly', 'weekly_lower', 'weekly_upper', 'yearly', 'yearly_lower',\n",
       "       'yearly_upper', 'multiplicative_terms', 'multiplicative_terms_lower',\n",
       "       'multiplicative_terms_upper', 'yhat'],\n",
       "      dtype='object')"
      ]
     },
     "execution_count": 12,
     "metadata": {},
     "output_type": "execute_result"
    }
   ],
   "source": [
    "xlk_forecast.columns"
   ]
  },
  {
   "cell_type": "code",
   "execution_count": 14,
   "metadata": {
    "scrolled": true
   },
   "outputs": [
    {
     "data": {
      "image/png": "[encoded data removed]",
      "text/plain": [
       "<Figure size 1296x432 with 1 Axes>"
      ]
     },
     "metadata": {},
     "output_type": "display_data"
    }
   ],
   "source": [
    "plt.figure(figsize=(18,6))\n",
    "plt.plot(xlk_forecast.ds[-15:]\n",
    "         , xlk_forecast.yhat[-15:]\n",
    "        )\n",
    "plt.xlabel('Date')\n",
    "plt.ylabel('Price')\n",
    "plt.title('SPDR XLK Price Predictions 3 Weeks');"
   ]
  },
  {
   "cell_type": "code",
   "execution_count": null,
   "metadata": {},
   "outputs": [],
   "source": []
  }
 ],
 "metadata": {
  "kernelspec": {
   "display_name": "Python 3",
   "language": "python",
   "name": "python3"
  },
  "language_info": {
   "codemirror_mode": {
    "name": "ipython",
    "version": 3
   },
   "file_extension": ".py",
   "mimetype": "text/x-python",
   "name": "python",
   "nbconvert_exporter": "python",
   "pygments_lexer": "ipython3",
   "version": "3.7.5"
  }
 },
 "nbformat": 4,
 "nbformat_minor": 4
}
